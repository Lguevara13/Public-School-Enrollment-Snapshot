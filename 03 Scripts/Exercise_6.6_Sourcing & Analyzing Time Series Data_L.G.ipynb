{
 "cells": [
  {
   "cell_type": "markdown",
   "id": "7e71139b",
   "metadata": {},
   "source": [
    "# This script contains the following:\n",
    "- Importing your libraries and data\n",
    "- Subsetting, wrangling, and cleaning time-series data\n",
    "- Time series analysis: decomposition\n",
    "- Testing for stationarity\n",
    "- Stationarizing the Federal Reserve Economic Data"
   ]
  },
  {
   "cell_type": "code",
   "execution_count": 1,
   "id": "9614a3a3",
   "metadata": {
    "scrolled": true
   },
   "outputs": [],
   "source": [
    "# Import libraries \n",
    "\n",
    "import quandl\n",
    "import pandas as pd\n",
    "import numpy as np\n",
    "import seaborn as sns\n",
    "import matplotlib\n",
    "import matplotlib.pyplot as plt\n",
    "import statsmodels.api as sm \n",
    "import os\n",
    "import warnings\n",
    "\n",
    "warnings.filterwarnings(\"ignore\")\n",
    "\n",
    "plt.style.use('fivethirtyeight')"
   ]
  },
  {
   "cell_type": "code",
   "execution_count": 2,
   "id": "6c77f9f4",
   "metadata": {
    "scrolled": true
   },
   "outputs": [],
   "source": [
    "path  = r'/Users/lupeguevara/Documents/DOE Demographic Snapshot'"
   ]
  },
  {
   "cell_type": "code",
   "execution_count": 3,
   "id": "bed259d9",
   "metadata": {
    "scrolled": true
   },
   "outputs": [
    {
     "data": {
      "text/plain": [
       "'/Users/lupeguevara/Documents/DOE Demographic Snapshot'"
      ]
     },
     "execution_count": 3,
     "metadata": {},
     "output_type": "execute_result"
    }
   ],
   "source": [
    "path"
   ]
  },
  {
   "cell_type": "code",
   "execution_count": 4,
   "id": "001b85db",
   "metadata": {
    "scrolled": true
   },
   "outputs": [],
   "source": [
    "# Importing dataset\n",
    "\n",
    "df = pd.read_pickle(os.path.join(path, '02 Data', 'Prepared Data', 'hardship_enrollment.pkl'))"
   ]
  },
  {
   "cell_type": "code",
   "execution_count": 5,
   "id": "2b055348",
   "metadata": {},
   "outputs": [
    {
     "data": {
      "text/html": [
       "<div>\n",
       "<style scoped>\n",
       "    .dataframe tbody tr th:only-of-type {\n",
       "        vertical-align: middle;\n",
       "    }\n",
       "\n",
       "    .dataframe tbody tr th {\n",
       "        vertical-align: top;\n",
       "    }\n",
       "\n",
       "    .dataframe thead th {\n",
       "        text-align: right;\n",
       "    }\n",
       "</style>\n",
       "<table border=\"1\" class=\"dataframe\">\n",
       "  <thead>\n",
       "    <tr style=\"text-align: right;\">\n",
       "      <th></th>\n",
       "      <th>District Borough Number</th>\n",
       "      <th>School Name</th>\n",
       "      <th>Year</th>\n",
       "      <th>Total Enrollment</th>\n",
       "      <th>Grade PK</th>\n",
       "      <th>Grade K</th>\n",
       "      <th>Grade 1</th>\n",
       "      <th>Grade 2</th>\n",
       "      <th>Grade 3</th>\n",
       "      <th>Grade 4</th>\n",
       "      <th>...</th>\n",
       "      <th>Location</th>\n",
       "      <th>Grades</th>\n",
       "      <th>Address</th>\n",
       "      <th>State</th>\n",
       "      <th>X_COORDINATE</th>\n",
       "      <th>Y_COORDINATE</th>\n",
       "      <th>LONGITUDE</th>\n",
       "      <th>LATITUDE</th>\n",
       "      <th>Neighborhood</th>\n",
       "      <th>Coordinates</th>\n",
       "    </tr>\n",
       "  </thead>\n",
       "  <tbody>\n",
       "    <tr>\n",
       "      <th>1</th>\n",
       "      <td>01M015</td>\n",
       "      <td>P.S. 015 Roberto Clemente</td>\n",
       "      <td>2014-15</td>\n",
       "      <td>183</td>\n",
       "      <td>18</td>\n",
       "      <td>27</td>\n",
       "      <td>47</td>\n",
       "      <td>31</td>\n",
       "      <td>19</td>\n",
       "      <td>17</td>\n",
       "      <td>...</td>\n",
       "      <td>Elementary</td>\n",
       "      <td>PK,0K,01,02,03,04,05</td>\n",
       "      <td>333 EAST  4 STREET</td>\n",
       "      <td>NY</td>\n",
       "      <td>990141.0</td>\n",
       "      <td>202349.0</td>\n",
       "      <td>-73.978747</td>\n",
       "      <td>40.722075</td>\n",
       "      <td>Lower East Side</td>\n",
       "      <td>(40.722075, -73.978747)</td>\n",
       "    </tr>\n",
       "    <tr>\n",
       "      <th>2</th>\n",
       "      <td>01M015</td>\n",
       "      <td>P.S. 015 Roberto Clemente</td>\n",
       "      <td>2015-16</td>\n",
       "      <td>176</td>\n",
       "      <td>14</td>\n",
       "      <td>32</td>\n",
       "      <td>33</td>\n",
       "      <td>39</td>\n",
       "      <td>23</td>\n",
       "      <td>17</td>\n",
       "      <td>...</td>\n",
       "      <td>Elementary</td>\n",
       "      <td>PK,0K,01,02,03,04,05</td>\n",
       "      <td>333 EAST  4 STREET</td>\n",
       "      <td>NY</td>\n",
       "      <td>990141.0</td>\n",
       "      <td>202349.0</td>\n",
       "      <td>-73.978747</td>\n",
       "      <td>40.722075</td>\n",
       "      <td>Lower East Side</td>\n",
       "      <td>(40.722075, -73.978747)</td>\n",
       "    </tr>\n",
       "    <tr>\n",
       "      <th>3</th>\n",
       "      <td>01M015</td>\n",
       "      <td>P.S. 015 Roberto Clemente</td>\n",
       "      <td>2016-17</td>\n",
       "      <td>178</td>\n",
       "      <td>17</td>\n",
       "      <td>28</td>\n",
       "      <td>33</td>\n",
       "      <td>27</td>\n",
       "      <td>31</td>\n",
       "      <td>24</td>\n",
       "      <td>...</td>\n",
       "      <td>Elementary</td>\n",
       "      <td>PK,0K,01,02,03,04,05</td>\n",
       "      <td>333 EAST  4 STREET</td>\n",
       "      <td>NY</td>\n",
       "      <td>990141.0</td>\n",
       "      <td>202349.0</td>\n",
       "      <td>-73.978747</td>\n",
       "      <td>40.722075</td>\n",
       "      <td>Lower East Side</td>\n",
       "      <td>(40.722075, -73.978747)</td>\n",
       "    </tr>\n",
       "    <tr>\n",
       "      <th>4</th>\n",
       "      <td>01M015</td>\n",
       "      <td>P.S. 015 Roberto Clemente</td>\n",
       "      <td>2017-18</td>\n",
       "      <td>190</td>\n",
       "      <td>17</td>\n",
       "      <td>28</td>\n",
       "      <td>32</td>\n",
       "      <td>33</td>\n",
       "      <td>23</td>\n",
       "      <td>31</td>\n",
       "      <td>...</td>\n",
       "      <td>Elementary</td>\n",
       "      <td>PK,0K,01,02,03,04,05</td>\n",
       "      <td>333 EAST  4 STREET</td>\n",
       "      <td>NY</td>\n",
       "      <td>990141.0</td>\n",
       "      <td>202349.0</td>\n",
       "      <td>-73.978747</td>\n",
       "      <td>40.722075</td>\n",
       "      <td>Lower East Side</td>\n",
       "      <td>(40.722075, -73.978747)</td>\n",
       "    </tr>\n",
       "    <tr>\n",
       "      <th>6</th>\n",
       "      <td>01M019</td>\n",
       "      <td>P.S. 019 Asher Levy</td>\n",
       "      <td>2014-15</td>\n",
       "      <td>270</td>\n",
       "      <td>30</td>\n",
       "      <td>44</td>\n",
       "      <td>40</td>\n",
       "      <td>39</td>\n",
       "      <td>35</td>\n",
       "      <td>40</td>\n",
       "      <td>...</td>\n",
       "      <td>Elementary</td>\n",
       "      <td>PK,0K,01,02,03,04,05</td>\n",
       "      <td>185 1 AVENUE</td>\n",
       "      <td>NY</td>\n",
       "      <td>988547.0</td>\n",
       "      <td>205239.0</td>\n",
       "      <td>-73.984496</td>\n",
       "      <td>40.730009</td>\n",
       "      <td>East Village</td>\n",
       "      <td>(40.730009, -73.984496)</td>\n",
       "    </tr>\n",
       "  </tbody>\n",
       "</table>\n",
       "<p>5 rows × 39 columns</p>\n",
       "</div>"
      ],
      "text/plain": [
       "  District Borough Number                School Name     Year  \\\n",
       "1                  01M015  P.S. 015 Roberto Clemente  2014-15   \n",
       "2                  01M015  P.S. 015 Roberto Clemente  2015-16   \n",
       "3                  01M015  P.S. 015 Roberto Clemente  2016-17   \n",
       "4                  01M015  P.S. 015 Roberto Clemente  2017-18   \n",
       "6                  01M019        P.S. 019 Asher Levy  2014-15   \n",
       "\n",
       "   Total Enrollment  Grade PK  Grade K  Grade 1  Grade 2  Grade 3  Grade 4  \\\n",
       "1               183        18       27       47       31       19       17   \n",
       "2               176        14       32       33       39       23       17   \n",
       "3               178        17       28       33       27       31       24   \n",
       "4               190        17       28       32       33       23       31   \n",
       "6               270        30       44       40       39       35       40   \n",
       "\n",
       "   ...    Location                Grades             Address  State  \\\n",
       "1  ...  Elementary  PK,0K,01,02,03,04,05  333 EAST  4 STREET     NY   \n",
       "2  ...  Elementary  PK,0K,01,02,03,04,05  333 EAST  4 STREET     NY   \n",
       "3  ...  Elementary  PK,0K,01,02,03,04,05  333 EAST  4 STREET     NY   \n",
       "4  ...  Elementary  PK,0K,01,02,03,04,05  333 EAST  4 STREET     NY   \n",
       "6  ...  Elementary  PK,0K,01,02,03,04,05        185 1 AVENUE     NY   \n",
       "\n",
       "   X_COORDINATE  Y_COORDINATE  LONGITUDE   LATITUDE     Neighborhood  \\\n",
       "1      990141.0      202349.0 -73.978747  40.722075  Lower East Side   \n",
       "2      990141.0      202349.0 -73.978747  40.722075  Lower East Side   \n",
       "3      990141.0      202349.0 -73.978747  40.722075  Lower East Side   \n",
       "4      990141.0      202349.0 -73.978747  40.722075  Lower East Side   \n",
       "6      988547.0      205239.0 -73.984496  40.730009     East Village   \n",
       "\n",
       "               Coordinates  \n",
       "1  (40.722075, -73.978747)  \n",
       "2  (40.722075, -73.978747)  \n",
       "3  (40.722075, -73.978747)  \n",
       "4  (40.722075, -73.978747)  \n",
       "6  (40.730009, -73.984496)  \n",
       "\n",
       "[5 rows x 39 columns]"
      ]
     },
     "execution_count": 5,
     "metadata": {},
     "output_type": "execute_result"
    }
   ],
   "source": [
    "df.head()"
   ]
  },
  {
   "cell_type": "code",
   "execution_count": 6,
   "id": "46a55c72",
   "metadata": {
    "scrolled": true
   },
   "outputs": [],
   "source": [
    "# Parse strings to datetime type\n",
    "\n",
    "df['Year'] = pd.to_datetime(df['Year'], format='%Y-%y', errors='coerce')\n",
    "indexedDataset = df.set_index(['Year'])"
   ]
  },
  {
   "cell_type": "code",
   "execution_count": 7,
   "id": "b2c88a03",
   "metadata": {},
   "outputs": [
    {
     "data": {
      "text/html": [
       "<div>\n",
       "<style scoped>\n",
       "    .dataframe tbody tr th:only-of-type {\n",
       "        vertical-align: middle;\n",
       "    }\n",
       "\n",
       "    .dataframe tbody tr th {\n",
       "        vertical-align: top;\n",
       "    }\n",
       "\n",
       "    .dataframe thead th {\n",
       "        text-align: right;\n",
       "    }\n",
       "</style>\n",
       "<table border=\"1\" class=\"dataframe\">\n",
       "  <thead>\n",
       "    <tr style=\"text-align: right;\">\n",
       "      <th></th>\n",
       "      <th>District Borough Number</th>\n",
       "      <th>School Name</th>\n",
       "      <th>Year</th>\n",
       "      <th>Total Enrollment</th>\n",
       "      <th>Grade PK</th>\n",
       "      <th>Grade K</th>\n",
       "      <th>Grade 1</th>\n",
       "      <th>Grade 2</th>\n",
       "      <th>Grade 3</th>\n",
       "      <th>Grade 4</th>\n",
       "      <th>...</th>\n",
       "      <th>Location</th>\n",
       "      <th>Grades</th>\n",
       "      <th>Address</th>\n",
       "      <th>State</th>\n",
       "      <th>X_COORDINATE</th>\n",
       "      <th>Y_COORDINATE</th>\n",
       "      <th>LONGITUDE</th>\n",
       "      <th>LATITUDE</th>\n",
       "      <th>Neighborhood</th>\n",
       "      <th>Coordinates</th>\n",
       "    </tr>\n",
       "  </thead>\n",
       "  <tbody>\n",
       "    <tr>\n",
       "      <th>1</th>\n",
       "      <td>01M015</td>\n",
       "      <td>P.S. 015 Roberto Clemente</td>\n",
       "      <td>2015-01-01</td>\n",
       "      <td>183</td>\n",
       "      <td>18</td>\n",
       "      <td>27</td>\n",
       "      <td>47</td>\n",
       "      <td>31</td>\n",
       "      <td>19</td>\n",
       "      <td>17</td>\n",
       "      <td>...</td>\n",
       "      <td>Elementary</td>\n",
       "      <td>PK,0K,01,02,03,04,05</td>\n",
       "      <td>333 EAST  4 STREET</td>\n",
       "      <td>NY</td>\n",
       "      <td>990141.0</td>\n",
       "      <td>202349.0</td>\n",
       "      <td>-73.978747</td>\n",
       "      <td>40.722075</td>\n",
       "      <td>Lower East Side</td>\n",
       "      <td>(40.722075, -73.978747)</td>\n",
       "    </tr>\n",
       "    <tr>\n",
       "      <th>2</th>\n",
       "      <td>01M015</td>\n",
       "      <td>P.S. 015 Roberto Clemente</td>\n",
       "      <td>2016-01-01</td>\n",
       "      <td>176</td>\n",
       "      <td>14</td>\n",
       "      <td>32</td>\n",
       "      <td>33</td>\n",
       "      <td>39</td>\n",
       "      <td>23</td>\n",
       "      <td>17</td>\n",
       "      <td>...</td>\n",
       "      <td>Elementary</td>\n",
       "      <td>PK,0K,01,02,03,04,05</td>\n",
       "      <td>333 EAST  4 STREET</td>\n",
       "      <td>NY</td>\n",
       "      <td>990141.0</td>\n",
       "      <td>202349.0</td>\n",
       "      <td>-73.978747</td>\n",
       "      <td>40.722075</td>\n",
       "      <td>Lower East Side</td>\n",
       "      <td>(40.722075, -73.978747)</td>\n",
       "    </tr>\n",
       "    <tr>\n",
       "      <th>3</th>\n",
       "      <td>01M015</td>\n",
       "      <td>P.S. 015 Roberto Clemente</td>\n",
       "      <td>2017-01-01</td>\n",
       "      <td>178</td>\n",
       "      <td>17</td>\n",
       "      <td>28</td>\n",
       "      <td>33</td>\n",
       "      <td>27</td>\n",
       "      <td>31</td>\n",
       "      <td>24</td>\n",
       "      <td>...</td>\n",
       "      <td>Elementary</td>\n",
       "      <td>PK,0K,01,02,03,04,05</td>\n",
       "      <td>333 EAST  4 STREET</td>\n",
       "      <td>NY</td>\n",
       "      <td>990141.0</td>\n",
       "      <td>202349.0</td>\n",
       "      <td>-73.978747</td>\n",
       "      <td>40.722075</td>\n",
       "      <td>Lower East Side</td>\n",
       "      <td>(40.722075, -73.978747)</td>\n",
       "    </tr>\n",
       "    <tr>\n",
       "      <th>4</th>\n",
       "      <td>01M015</td>\n",
       "      <td>P.S. 015 Roberto Clemente</td>\n",
       "      <td>2018-01-01</td>\n",
       "      <td>190</td>\n",
       "      <td>17</td>\n",
       "      <td>28</td>\n",
       "      <td>32</td>\n",
       "      <td>33</td>\n",
       "      <td>23</td>\n",
       "      <td>31</td>\n",
       "      <td>...</td>\n",
       "      <td>Elementary</td>\n",
       "      <td>PK,0K,01,02,03,04,05</td>\n",
       "      <td>333 EAST  4 STREET</td>\n",
       "      <td>NY</td>\n",
       "      <td>990141.0</td>\n",
       "      <td>202349.0</td>\n",
       "      <td>-73.978747</td>\n",
       "      <td>40.722075</td>\n",
       "      <td>Lower East Side</td>\n",
       "      <td>(40.722075, -73.978747)</td>\n",
       "    </tr>\n",
       "    <tr>\n",
       "      <th>6</th>\n",
       "      <td>01M019</td>\n",
       "      <td>P.S. 019 Asher Levy</td>\n",
       "      <td>2015-01-01</td>\n",
       "      <td>270</td>\n",
       "      <td>30</td>\n",
       "      <td>44</td>\n",
       "      <td>40</td>\n",
       "      <td>39</td>\n",
       "      <td>35</td>\n",
       "      <td>40</td>\n",
       "      <td>...</td>\n",
       "      <td>Elementary</td>\n",
       "      <td>PK,0K,01,02,03,04,05</td>\n",
       "      <td>185 1 AVENUE</td>\n",
       "      <td>NY</td>\n",
       "      <td>988547.0</td>\n",
       "      <td>205239.0</td>\n",
       "      <td>-73.984496</td>\n",
       "      <td>40.730009</td>\n",
       "      <td>East Village</td>\n",
       "      <td>(40.730009, -73.984496)</td>\n",
       "    </tr>\n",
       "  </tbody>\n",
       "</table>\n",
       "<p>5 rows × 39 columns</p>\n",
       "</div>"
      ],
      "text/plain": [
       "  District Borough Number                School Name       Year  \\\n",
       "1                  01M015  P.S. 015 Roberto Clemente 2015-01-01   \n",
       "2                  01M015  P.S. 015 Roberto Clemente 2016-01-01   \n",
       "3                  01M015  P.S. 015 Roberto Clemente 2017-01-01   \n",
       "4                  01M015  P.S. 015 Roberto Clemente 2018-01-01   \n",
       "6                  01M019        P.S. 019 Asher Levy 2015-01-01   \n",
       "\n",
       "   Total Enrollment  Grade PK  Grade K  Grade 1  Grade 2  Grade 3  Grade 4  \\\n",
       "1               183        18       27       47       31       19       17   \n",
       "2               176        14       32       33       39       23       17   \n",
       "3               178        17       28       33       27       31       24   \n",
       "4               190        17       28       32       33       23       31   \n",
       "6               270        30       44       40       39       35       40   \n",
       "\n",
       "   ...    Location                Grades             Address  State  \\\n",
       "1  ...  Elementary  PK,0K,01,02,03,04,05  333 EAST  4 STREET     NY   \n",
       "2  ...  Elementary  PK,0K,01,02,03,04,05  333 EAST  4 STREET     NY   \n",
       "3  ...  Elementary  PK,0K,01,02,03,04,05  333 EAST  4 STREET     NY   \n",
       "4  ...  Elementary  PK,0K,01,02,03,04,05  333 EAST  4 STREET     NY   \n",
       "6  ...  Elementary  PK,0K,01,02,03,04,05        185 1 AVENUE     NY   \n",
       "\n",
       "   X_COORDINATE  Y_COORDINATE  LONGITUDE   LATITUDE     Neighborhood  \\\n",
       "1      990141.0      202349.0 -73.978747  40.722075  Lower East Side   \n",
       "2      990141.0      202349.0 -73.978747  40.722075  Lower East Side   \n",
       "3      990141.0      202349.0 -73.978747  40.722075  Lower East Side   \n",
       "4      990141.0      202349.0 -73.978747  40.722075  Lower East Side   \n",
       "6      988547.0      205239.0 -73.984496  40.730009     East Village   \n",
       "\n",
       "               Coordinates  \n",
       "1  (40.722075, -73.978747)  \n",
       "2  (40.722075, -73.978747)  \n",
       "3  (40.722075, -73.978747)  \n",
       "4  (40.722075, -73.978747)  \n",
       "6  (40.730009, -73.984496)  \n",
       "\n",
       "[5 rows x 39 columns]"
      ]
     },
     "execution_count": 7,
     "metadata": {},
     "output_type": "execute_result"
    }
   ],
   "source": [
    "df.head()"
   ]
  },
  {
   "cell_type": "code",
   "execution_count": 8,
   "id": "49244f02",
   "metadata": {},
   "outputs": [
    {
     "name": "stdout",
     "output_type": "stream",
     "text": [
      "<class 'pandas.core.frame.DataFrame'>\n",
      "Index: 7141 entries, 1 to 8864\n",
      "Data columns (total 39 columns):\n",
      " #   Column                        Non-Null Count  Dtype         \n",
      "---  ------                        --------------  -----         \n",
      " 0   District Borough Number       7141 non-null   object        \n",
      " 1   School Name                   7141 non-null   object        \n",
      " 2   Year                          7141 non-null   datetime64[ns]\n",
      " 3   Total Enrollment              7141 non-null   int64         \n",
      " 4   Grade PK                      7141 non-null   int64         \n",
      " 5   Grade K                       7141 non-null   int64         \n",
      " 6   Grade 1                       7141 non-null   int64         \n",
      " 7   Grade 2                       7141 non-null   int64         \n",
      " 8   Grade 3                       7141 non-null   int64         \n",
      " 9   Grade 4                       7141 non-null   int64         \n",
      " 10  Grade 5                       7141 non-null   int64         \n",
      " 11  Grade 6                       7141 non-null   int64         \n",
      " 12  Grade 7                       7141 non-null   int64         \n",
      " 13  Grade 8                       7141 non-null   int64         \n",
      " 14  Grade 9                       7141 non-null   int64         \n",
      " 15  Grade 10                      7141 non-null   int64         \n",
      " 16  Grade 11                      7141 non-null   int64         \n",
      " 17  Grade 12                      7141 non-null   int64         \n",
      " 18  % Female                      7141 non-null   float64       \n",
      " 19  % Male                        7141 non-null   float64       \n",
      " 20  % Asian                       7141 non-null   float64       \n",
      " 21  % Black                       7141 non-null   float64       \n",
      " 22  % Hispanic                    7141 non-null   float64       \n",
      " 23  % Multiple Race               7141 non-null   float64       \n",
      " 24  % White                       7141 non-null   float64       \n",
      " 25  % Students with Disabilities  7141 non-null   float64       \n",
      " 26  % English Language Learners   7141 non-null   float64       \n",
      " 27  % Poverty                     7141 non-null   float64       \n",
      " 28  % Economic Need Index         7141 non-null   float64       \n",
      " 29  Location                      7141 non-null   object        \n",
      " 30  Grades                        7141 non-null   object        \n",
      " 31  Address                       7141 non-null   object        \n",
      " 32  State                         7141 non-null   object        \n",
      " 33  X_COORDINATE                  7141 non-null   float64       \n",
      " 34  Y_COORDINATE                  7141 non-null   float64       \n",
      " 35  LONGITUDE                     7141 non-null   float64       \n",
      " 36  LATITUDE                      7141 non-null   float64       \n",
      " 37  Neighborhood                  7141 non-null   object        \n",
      " 38  Coordinates                   7141 non-null   object        \n",
      "dtypes: datetime64[ns](1), float64(15), int64(15), object(8)\n",
      "memory usage: 2.2+ MB\n"
     ]
    }
   ],
   "source": [
    "df.info()"
   ]
  },
  {
   "cell_type": "code",
   "execution_count": 9,
   "id": "a1e7f9ee",
   "metadata": {
    "scrolled": true
   },
   "outputs": [
    {
     "data": {
      "text/plain": [
       "(7141, 39)"
      ]
     },
     "execution_count": 9,
     "metadata": {},
     "output_type": "execute_result"
    }
   ],
   "source": [
    "df.shape"
   ]
  },
  {
   "cell_type": "code",
   "execution_count": 10,
   "id": "4c10ba50",
   "metadata": {
    "scrolled": true
   },
   "outputs": [
    {
     "data": {
      "text/plain": [
       "pandas.core.frame.DataFrame"
      ]
     },
     "execution_count": 10,
     "metadata": {},
     "output_type": "execute_result"
    }
   ],
   "source": [
    "type(df)"
   ]
  },
  {
   "cell_type": "code",
   "execution_count": 11,
   "id": "5ffbeb7c",
   "metadata": {
    "scrolled": true
   },
   "outputs": [
    {
     "data": {
      "text/plain": [
       "Index(['District Borough Number', 'School Name', 'Year', 'Total Enrollment',\n",
       "       'Grade PK', 'Grade K', 'Grade 1', 'Grade 2', 'Grade 3', 'Grade 4',\n",
       "       'Grade 5', 'Grade 6', 'Grade 7', 'Grade 8', 'Grade 9', 'Grade 10',\n",
       "       'Grade 11', 'Grade 12', '% Female', '% Male', '% Asian', '% Black',\n",
       "       '% Hispanic', '% Multiple Race', '% White',\n",
       "       '% Students with Disabilities', '% English Language Learners',\n",
       "       '% Poverty', '% Economic Need Index', 'Location', 'Grades', 'Address',\n",
       "       'State', 'X_COORDINATE', 'Y_COORDINATE', 'LONGITUDE', 'LATITUDE',\n",
       "       'Neighborhood', 'Coordinates'],\n",
       "      dtype='object')"
      ]
     },
     "execution_count": 11,
     "metadata": {},
     "output_type": "execute_result"
    }
   ],
   "source": [
    "df.columns"
   ]
  },
  {
   "cell_type": "code",
   "execution_count": 12,
   "id": "0a04b76b",
   "metadata": {
    "scrolled": true
   },
   "outputs": [
    {
     "data": {
      "text/html": [
       "<div>\n",
       "<style scoped>\n",
       "    .dataframe tbody tr th:only-of-type {\n",
       "        vertical-align: middle;\n",
       "    }\n",
       "\n",
       "    .dataframe tbody tr th {\n",
       "        vertical-align: top;\n",
       "    }\n",
       "\n",
       "    .dataframe thead th {\n",
       "        text-align: right;\n",
       "    }\n",
       "</style>\n",
       "<table border=\"1\" class=\"dataframe\">\n",
       "  <thead>\n",
       "    <tr style=\"text-align: right;\">\n",
       "      <th></th>\n",
       "      <th>District Borough Number</th>\n",
       "      <th>School Name</th>\n",
       "      <th>Year</th>\n",
       "      <th>Total Enrollment</th>\n",
       "      <th>Grade PK</th>\n",
       "      <th>Grade K</th>\n",
       "      <th>Grade 1</th>\n",
       "      <th>Grade 2</th>\n",
       "      <th>Grade 3</th>\n",
       "      <th>Grade 4</th>\n",
       "      <th>...</th>\n",
       "      <th>Location</th>\n",
       "      <th>Grades</th>\n",
       "      <th>Address</th>\n",
       "      <th>State</th>\n",
       "      <th>X_COORDINATE</th>\n",
       "      <th>Y_COORDINATE</th>\n",
       "      <th>LONGITUDE</th>\n",
       "      <th>LATITUDE</th>\n",
       "      <th>Neighborhood</th>\n",
       "      <th>Coordinates</th>\n",
       "    </tr>\n",
       "  </thead>\n",
       "  <tbody>\n",
       "    <tr>\n",
       "      <th>1</th>\n",
       "      <td>01M015</td>\n",
       "      <td>P.S. 015 Roberto Clemente</td>\n",
       "      <td>2015-01-01</td>\n",
       "      <td>183</td>\n",
       "      <td>18</td>\n",
       "      <td>27</td>\n",
       "      <td>47</td>\n",
       "      <td>31</td>\n",
       "      <td>19</td>\n",
       "      <td>17</td>\n",
       "      <td>...</td>\n",
       "      <td>Elementary</td>\n",
       "      <td>PK,0K,01,02,03,04,05</td>\n",
       "      <td>333 EAST  4 STREET</td>\n",
       "      <td>NY</td>\n",
       "      <td>990141.0</td>\n",
       "      <td>202349.0</td>\n",
       "      <td>-73.978747</td>\n",
       "      <td>40.722075</td>\n",
       "      <td>Lower East Side</td>\n",
       "      <td>(40.722075, -73.978747)</td>\n",
       "    </tr>\n",
       "    <tr>\n",
       "      <th>2</th>\n",
       "      <td>01M015</td>\n",
       "      <td>P.S. 015 Roberto Clemente</td>\n",
       "      <td>2016-01-01</td>\n",
       "      <td>176</td>\n",
       "      <td>14</td>\n",
       "      <td>32</td>\n",
       "      <td>33</td>\n",
       "      <td>39</td>\n",
       "      <td>23</td>\n",
       "      <td>17</td>\n",
       "      <td>...</td>\n",
       "      <td>Elementary</td>\n",
       "      <td>PK,0K,01,02,03,04,05</td>\n",
       "      <td>333 EAST  4 STREET</td>\n",
       "      <td>NY</td>\n",
       "      <td>990141.0</td>\n",
       "      <td>202349.0</td>\n",
       "      <td>-73.978747</td>\n",
       "      <td>40.722075</td>\n",
       "      <td>Lower East Side</td>\n",
       "      <td>(40.722075, -73.978747)</td>\n",
       "    </tr>\n",
       "    <tr>\n",
       "      <th>3</th>\n",
       "      <td>01M015</td>\n",
       "      <td>P.S. 015 Roberto Clemente</td>\n",
       "      <td>2017-01-01</td>\n",
       "      <td>178</td>\n",
       "      <td>17</td>\n",
       "      <td>28</td>\n",
       "      <td>33</td>\n",
       "      <td>27</td>\n",
       "      <td>31</td>\n",
       "      <td>24</td>\n",
       "      <td>...</td>\n",
       "      <td>Elementary</td>\n",
       "      <td>PK,0K,01,02,03,04,05</td>\n",
       "      <td>333 EAST  4 STREET</td>\n",
       "      <td>NY</td>\n",
       "      <td>990141.0</td>\n",
       "      <td>202349.0</td>\n",
       "      <td>-73.978747</td>\n",
       "      <td>40.722075</td>\n",
       "      <td>Lower East Side</td>\n",
       "      <td>(40.722075, -73.978747)</td>\n",
       "    </tr>\n",
       "    <tr>\n",
       "      <th>4</th>\n",
       "      <td>01M015</td>\n",
       "      <td>P.S. 015 Roberto Clemente</td>\n",
       "      <td>2018-01-01</td>\n",
       "      <td>190</td>\n",
       "      <td>17</td>\n",
       "      <td>28</td>\n",
       "      <td>32</td>\n",
       "      <td>33</td>\n",
       "      <td>23</td>\n",
       "      <td>31</td>\n",
       "      <td>...</td>\n",
       "      <td>Elementary</td>\n",
       "      <td>PK,0K,01,02,03,04,05</td>\n",
       "      <td>333 EAST  4 STREET</td>\n",
       "      <td>NY</td>\n",
       "      <td>990141.0</td>\n",
       "      <td>202349.0</td>\n",
       "      <td>-73.978747</td>\n",
       "      <td>40.722075</td>\n",
       "      <td>Lower East Side</td>\n",
       "      <td>(40.722075, -73.978747)</td>\n",
       "    </tr>\n",
       "    <tr>\n",
       "      <th>6</th>\n",
       "      <td>01M019</td>\n",
       "      <td>P.S. 019 Asher Levy</td>\n",
       "      <td>2015-01-01</td>\n",
       "      <td>270</td>\n",
       "      <td>30</td>\n",
       "      <td>44</td>\n",
       "      <td>40</td>\n",
       "      <td>39</td>\n",
       "      <td>35</td>\n",
       "      <td>40</td>\n",
       "      <td>...</td>\n",
       "      <td>Elementary</td>\n",
       "      <td>PK,0K,01,02,03,04,05</td>\n",
       "      <td>185 1 AVENUE</td>\n",
       "      <td>NY</td>\n",
       "      <td>988547.0</td>\n",
       "      <td>205239.0</td>\n",
       "      <td>-73.984496</td>\n",
       "      <td>40.730009</td>\n",
       "      <td>East Village</td>\n",
       "      <td>(40.730009, -73.984496)</td>\n",
       "    </tr>\n",
       "  </tbody>\n",
       "</table>\n",
       "<p>5 rows × 39 columns</p>\n",
       "</div>"
      ],
      "text/plain": [
       "  District Borough Number                School Name       Year  \\\n",
       "1                  01M015  P.S. 015 Roberto Clemente 2015-01-01   \n",
       "2                  01M015  P.S. 015 Roberto Clemente 2016-01-01   \n",
       "3                  01M015  P.S. 015 Roberto Clemente 2017-01-01   \n",
       "4                  01M015  P.S. 015 Roberto Clemente 2018-01-01   \n",
       "6                  01M019        P.S. 019 Asher Levy 2015-01-01   \n",
       "\n",
       "   Total Enrollment  Grade PK  Grade K  Grade 1  Grade 2  Grade 3  Grade 4  \\\n",
       "1               183        18       27       47       31       19       17   \n",
       "2               176        14       32       33       39       23       17   \n",
       "3               178        17       28       33       27       31       24   \n",
       "4               190        17       28       32       33       23       31   \n",
       "6               270        30       44       40       39       35       40   \n",
       "\n",
       "   ...    Location                Grades             Address  State  \\\n",
       "1  ...  Elementary  PK,0K,01,02,03,04,05  333 EAST  4 STREET     NY   \n",
       "2  ...  Elementary  PK,0K,01,02,03,04,05  333 EAST  4 STREET     NY   \n",
       "3  ...  Elementary  PK,0K,01,02,03,04,05  333 EAST  4 STREET     NY   \n",
       "4  ...  Elementary  PK,0K,01,02,03,04,05  333 EAST  4 STREET     NY   \n",
       "6  ...  Elementary  PK,0K,01,02,03,04,05        185 1 AVENUE     NY   \n",
       "\n",
       "   X_COORDINATE  Y_COORDINATE  LONGITUDE   LATITUDE     Neighborhood  \\\n",
       "1      990141.0      202349.0 -73.978747  40.722075  Lower East Side   \n",
       "2      990141.0      202349.0 -73.978747  40.722075  Lower East Side   \n",
       "3      990141.0      202349.0 -73.978747  40.722075  Lower East Side   \n",
       "4      990141.0      202349.0 -73.978747  40.722075  Lower East Side   \n",
       "6      988547.0      205239.0 -73.984496  40.730009     East Village   \n",
       "\n",
       "               Coordinates  \n",
       "1  (40.722075, -73.978747)  \n",
       "2  (40.722075, -73.978747)  \n",
       "3  (40.722075, -73.978747)  \n",
       "4  (40.722075, -73.978747)  \n",
       "6  (40.730009, -73.984496)  \n",
       "\n",
       "[5 rows x 39 columns]"
      ]
     },
     "execution_count": 12,
     "metadata": {},
     "output_type": "execute_result"
    }
   ],
   "source": [
    "df.head()"
   ]
  },
  {
   "cell_type": "markdown",
   "id": "14ed5bad",
   "metadata": {},
   "source": [
    "# Subsetting, and Wrangling Time Series Data"
   ]
  },
  {
   "cell_type": "code",
   "execution_count": 13,
   "id": "57949ac1",
   "metadata": {},
   "outputs": [
    {
     "data": {
      "text/plain": [
       "Year\n",
       "2018-01-01    1817\n",
       "2017-01-01    1793\n",
       "2016-01-01    1777\n",
       "2015-01-01    1754\n",
       "Name: count, dtype: int64"
      ]
     },
     "execution_count": 13,
     "metadata": {},
     "output_type": "execute_result"
    }
   ],
   "source": [
    "df['Year'].value_counts()"
   ]
  },
  {
   "cell_type": "code",
   "execution_count": 14,
   "id": "8ab4c900",
   "metadata": {
    "scrolled": true
   },
   "outputs": [],
   "source": [
    "# Count of year\n",
    "year_count = df.groupby(df['Year'].dt.date)['Year'].count()"
   ]
  },
  {
   "cell_type": "code",
   "execution_count": 15,
   "id": "b03b9918",
   "metadata": {
    "scrolled": true
   },
   "outputs": [
    {
     "name": "stdout",
     "output_type": "stream",
     "text": [
      "Year\n",
      "2015-01-01    1754\n",
      "2016-01-01    1777\n",
      "2017-01-01    1793\n",
      "2018-01-01    1817\n",
      "Name: Year, dtype: int64\n"
     ]
    }
   ],
   "source": [
    "print(year_count)"
   ]
  },
  {
   "cell_type": "code",
   "execution_count": 16,
   "id": "f0577ff7",
   "metadata": {
    "scrolled": true
   },
   "outputs": [
    {
     "data": {
      "text/plain": [
       "[<matplotlib.lines.Line2D at 0x162a31ed0>]"
      ]
     },
     "execution_count": 16,
     "metadata": {},
     "output_type": "execute_result"
    },
    {
     "data": {
      "image/png": "[encoded data removed]",
      "text/plain": [
       "<Figure size 1500x500 with 1 Axes>"
      ]
     },
     "metadata": {},
     "output_type": "display_data"
    }
   ],
   "source": [
    "# Plot the 'year_count'\n",
    "\n",
    "plt.figure(figsize=(15,5), dpi=100)\n",
    "plt.plot(year_count)"
   ]
  },
  {
   "cell_type": "code",
   "execution_count": 17,
   "id": "e547bb5b",
   "metadata": {
    "scrolled": true
   },
   "outputs": [],
   "source": [
    "# Average yearly enrollment\n",
    "avg_enrollment = df.groupby('Year')['Total Enrollment'].mean()"
   ]
  },
  {
   "cell_type": "code",
   "execution_count": 18,
   "id": "1888f97d",
   "metadata": {
    "scrolled": true
   },
   "outputs": [
    {
     "data": {
      "text/plain": [
       "Year\n",
       "2015-01-01    595.594641\n",
       "2016-01-01    594.120428\n",
       "2017-01-01    595.369214\n",
       "2018-01-01    587.954320\n",
       "Name: Total Enrollment, dtype: float64"
      ]
     },
     "execution_count": 18,
     "metadata": {},
     "output_type": "execute_result"
    }
   ],
   "source": [
    "avg_enrollment"
   ]
  },
  {
   "cell_type": "code",
   "execution_count": 19,
   "id": "1bf7963d",
   "metadata": {
    "scrolled": true
   },
   "outputs": [
    {
     "data": {
      "text/plain": [
       "[<matplotlib.lines.Line2D at 0x162ba2590>]"
      ]
     },
     "execution_count": 19,
     "metadata": {},
     "output_type": "execute_result"
    },
    {
     "data": {
      "image/png": "[encoded data removed]",
      "text/plain": [
       "<Figure size 1500x500 with 1 Axes>"
      ]
     },
     "metadata": {},
     "output_type": "display_data"
    }
   ],
   "source": [
    "# Plot the 'avg_enrollment'\n",
    "\n",
    "plt.figure(figsize=(15,5), dpi=100)\n",
    "plt.plot(avg_enrollment)"
   ]
  },
  {
   "cell_type": "code",
   "execution_count": 20,
   "id": "5ced1359",
   "metadata": {
    "scrolled": false
   },
   "outputs": [],
   "source": [
    "# Create a subset\n",
    "dataset = pd.DataFrame({'Date': year_count.index, 'Year Count': year_count.values, 'Average Enrollment': avg_enrollment.values})"
   ]
  },
  {
   "cell_type": "markdown",
   "id": "25573e47",
   "metadata": {},
   "source": [
    "### Selecting the data points for the analysis, we followed the logic of focusing on the 'Year Count and 'Avg Total Enrollment' columns, which are essential for our time series analysis. I made sure to exclude any irrelevant historical events or forecasted data that could bias our analysis. "
   ]
  },
  {
   "cell_type": "code",
   "execution_count": 21,
   "id": "f86deb80",
   "metadata": {
    "scrolled": false
   },
   "outputs": [
    {
     "data": {
      "text/html": [
       "<div>\n",
       "<style scoped>\n",
       "    .dataframe tbody tr th:only-of-type {\n",
       "        vertical-align: middle;\n",
       "    }\n",
       "\n",
       "    .dataframe tbody tr th {\n",
       "        vertical-align: top;\n",
       "    }\n",
       "\n",
       "    .dataframe thead th {\n",
       "        text-align: right;\n",
       "    }\n",
       "</style>\n",
       "<table border=\"1\" class=\"dataframe\">\n",
       "  <thead>\n",
       "    <tr style=\"text-align: right;\">\n",
       "      <th></th>\n",
       "      <th>Date</th>\n",
       "      <th>Year Count</th>\n",
       "      <th>Average Enrollment</th>\n",
       "    </tr>\n",
       "  </thead>\n",
       "  <tbody>\n",
       "    <tr>\n",
       "      <th>0</th>\n",
       "      <td>2015-01-01</td>\n",
       "      <td>1754</td>\n",
       "      <td>595.594641</td>\n",
       "    </tr>\n",
       "    <tr>\n",
       "      <th>1</th>\n",
       "      <td>2016-01-01</td>\n",
       "      <td>1777</td>\n",
       "      <td>594.120428</td>\n",
       "    </tr>\n",
       "    <tr>\n",
       "      <th>2</th>\n",
       "      <td>2017-01-01</td>\n",
       "      <td>1793</td>\n",
       "      <td>595.369214</td>\n",
       "    </tr>\n",
       "    <tr>\n",
       "      <th>3</th>\n",
       "      <td>2018-01-01</td>\n",
       "      <td>1817</td>\n",
       "      <td>587.954320</td>\n",
       "    </tr>\n",
       "  </tbody>\n",
       "</table>\n",
       "</div>"
      ],
      "text/plain": [
       "         Date  Year Count  Average Enrollment\n",
       "0  2015-01-01        1754          595.594641\n",
       "1  2016-01-01        1777          594.120428\n",
       "2  2017-01-01        1793          595.369214\n",
       "3  2018-01-01        1817          587.954320"
      ]
     },
     "execution_count": 21,
     "metadata": {},
     "output_type": "execute_result"
    }
   ],
   "source": [
    "dataset"
   ]
  },
  {
   "cell_type": "code",
   "execution_count": 22,
   "id": "04f66fcc",
   "metadata": {
    "scrolled": true
   },
   "outputs": [
    {
     "name": "stdout",
     "output_type": "stream",
     "text": [
      "<class 'pandas.core.frame.DataFrame'>\n",
      "RangeIndex: 4 entries, 0 to 3\n",
      "Data columns (total 3 columns):\n",
      " #   Column              Non-Null Count  Dtype  \n",
      "---  ------              --------------  -----  \n",
      " 0   Date                4 non-null      object \n",
      " 1   Year Count          4 non-null      int64  \n",
      " 2   Average Enrollment  4 non-null      float64\n",
      "dtypes: float64(1), int64(1), object(1)\n",
      "memory usage: 228.0+ bytes\n"
     ]
    }
   ],
   "source": [
    "dataset.info()"
   ]
  },
  {
   "cell_type": "code",
   "execution_count": 23,
   "id": "7dee92c1",
   "metadata": {
    "scrolled": true
   },
   "outputs": [
    {
     "data": {
      "text/html": [
       "<div>\n",
       "<style scoped>\n",
       "    .dataframe tbody tr th:only-of-type {\n",
       "        vertical-align: middle;\n",
       "    }\n",
       "\n",
       "    .dataframe tbody tr th {\n",
       "        vertical-align: top;\n",
       "    }\n",
       "\n",
       "    .dataframe thead th {\n",
       "        text-align: right;\n",
       "    }\n",
       "</style>\n",
       "<table border=\"1\" class=\"dataframe\">\n",
       "  <thead>\n",
       "    <tr style=\"text-align: right;\">\n",
       "      <th></th>\n",
       "      <th>Year Count</th>\n",
       "      <th>Average Enrollment</th>\n",
       "    </tr>\n",
       "    <tr>\n",
       "      <th>Datetime</th>\n",
       "      <th></th>\n",
       "      <th></th>\n",
       "    </tr>\n",
       "  </thead>\n",
       "  <tbody>\n",
       "    <tr>\n",
       "      <th>2015-01-01</th>\n",
       "      <td>1754</td>\n",
       "      <td>595.594641</td>\n",
       "    </tr>\n",
       "    <tr>\n",
       "      <th>2016-01-01</th>\n",
       "      <td>1777</td>\n",
       "      <td>594.120428</td>\n",
       "    </tr>\n",
       "    <tr>\n",
       "      <th>2017-01-01</th>\n",
       "      <td>1793</td>\n",
       "      <td>595.369214</td>\n",
       "    </tr>\n",
       "    <tr>\n",
       "      <th>2018-01-01</th>\n",
       "      <td>1817</td>\n",
       "      <td>587.954320</td>\n",
       "    </tr>\n",
       "  </tbody>\n",
       "</table>\n",
       "</div>"
      ],
      "text/plain": [
       "            Year Count  Average Enrollment\n",
       "Datetime                                  \n",
       "2015-01-01        1754          595.594641\n",
       "2016-01-01        1777          594.120428\n",
       "2017-01-01        1793          595.369214\n",
       "2018-01-01        1817          587.954320"
      ]
     },
     "execution_count": 23,
     "metadata": {},
     "output_type": "execute_result"
    }
   ],
   "source": [
    "# Set the \"Date\" column as the index\n",
    "\n",
    "from datetime import datetime\n",
    "\n",
    "dataset['Datetime'] = pd.to_datetime(dataset['Date']) # Create a datetime column from \"Date\n",
    "dataset = dataset.set_index('Datetime') # Set the datetime as the index of the dataframe\n",
    "dataset.drop(['Date'], axis=1, inplace=True) # Drop the column\n",
    "dataset.head()"
   ]
  },
  {
   "cell_type": "code",
   "execution_count": 24,
   "id": "20c6a1cc",
   "metadata": {},
   "outputs": [
    {
     "data": {
      "text/html": [
       "<div>\n",
       "<style scoped>\n",
       "    .dataframe tbody tr th:only-of-type {\n",
       "        vertical-align: middle;\n",
       "    }\n",
       "\n",
       "    .dataframe tbody tr th {\n",
       "        vertical-align: top;\n",
       "    }\n",
       "\n",
       "    .dataframe thead th {\n",
       "        text-align: right;\n",
       "    }\n",
       "</style>\n",
       "<table border=\"1\" class=\"dataframe\">\n",
       "  <thead>\n",
       "    <tr style=\"text-align: right;\">\n",
       "      <th></th>\n",
       "      <th>Year Count</th>\n",
       "      <th>Average Enrollment</th>\n",
       "    </tr>\n",
       "    <tr>\n",
       "      <th>Datetime</th>\n",
       "      <th></th>\n",
       "      <th></th>\n",
       "    </tr>\n",
       "  </thead>\n",
       "  <tbody>\n",
       "    <tr>\n",
       "      <th>2015-01-01</th>\n",
       "      <td>1754</td>\n",
       "      <td>595.594641</td>\n",
       "    </tr>\n",
       "    <tr>\n",
       "      <th>2016-01-01</th>\n",
       "      <td>1777</td>\n",
       "      <td>594.120428</td>\n",
       "    </tr>\n",
       "    <tr>\n",
       "      <th>2017-01-01</th>\n",
       "      <td>1793</td>\n",
       "      <td>595.369214</td>\n",
       "    </tr>\n",
       "    <tr>\n",
       "      <th>2018-01-01</th>\n",
       "      <td>1817</td>\n",
       "      <td>587.954320</td>\n",
       "    </tr>\n",
       "  </tbody>\n",
       "</table>\n",
       "</div>"
      ],
      "text/plain": [
       "            Year Count  Average Enrollment\n",
       "Datetime                                  \n",
       "2015-01-01        1754          595.594641\n",
       "2016-01-01        1777          594.120428\n",
       "2017-01-01        1793          595.369214\n",
       "2018-01-01        1817          587.954320"
      ]
     },
     "execution_count": 24,
     "metadata": {},
     "output_type": "execute_result"
    }
   ],
   "source": [
    "dataset.tail()"
   ]
  },
  {
   "cell_type": "code",
   "execution_count": 25,
   "id": "7d32e979",
   "metadata": {},
   "outputs": [
    {
     "data": {
      "text/plain": [
       "Index(['Year Count', 'Average Enrollment'], dtype='object')"
      ]
     },
     "execution_count": 25,
     "metadata": {},
     "output_type": "execute_result"
    }
   ],
   "source": [
    "dataset.columns"
   ]
  },
  {
   "cell_type": "code",
   "execution_count": 26,
   "id": "57025978",
   "metadata": {
    "scrolled": false
   },
   "outputs": [
    {
     "data": {
      "text/plain": [
       "[<matplotlib.lines.Line2D at 0x162c9cb90>,\n",
       " <matplotlib.lines.Line2D at 0x162ce92d0>]"
      ]
     },
     "execution_count": 26,
     "metadata": {},
     "output_type": "execute_result"
    },
    {
     "data": {
      "image/png": "[encoded data removed]",
      "text/plain": [
       "<Figure size 1500x500 with 1 Axes>"
      ]
     },
     "metadata": {},
     "output_type": "display_data"
    }
   ],
   "source": [
    "# Plot the dataset\n",
    "\n",
    "plt.figure(figsize=(15,5), dpi=100)\n",
    "plt.plot(dataset)"
   ]
  },
  {
   "cell_type": "code",
   "execution_count": 27,
   "id": "982c2cee",
   "metadata": {
    "scrolled": true
   },
   "outputs": [],
   "source": [
    "dataset_2 = dataset[['Average Enrollment']]"
   ]
  },
  {
   "cell_type": "code",
   "execution_count": 28,
   "id": "b096b6c1",
   "metadata": {
    "scrolled": true
   },
   "outputs": [
    {
     "data": {
      "text/html": [
       "<div>\n",
       "<style scoped>\n",
       "    .dataframe tbody tr th:only-of-type {\n",
       "        vertical-align: middle;\n",
       "    }\n",
       "\n",
       "    .dataframe tbody tr th {\n",
       "        vertical-align: top;\n",
       "    }\n",
       "\n",
       "    .dataframe thead th {\n",
       "        text-align: right;\n",
       "    }\n",
       "</style>\n",
       "<table border=\"1\" class=\"dataframe\">\n",
       "  <thead>\n",
       "    <tr style=\"text-align: right;\">\n",
       "      <th></th>\n",
       "      <th>Average Enrollment</th>\n",
       "    </tr>\n",
       "    <tr>\n",
       "      <th>Datetime</th>\n",
       "      <th></th>\n",
       "    </tr>\n",
       "  </thead>\n",
       "  <tbody>\n",
       "    <tr>\n",
       "      <th>2015-01-01</th>\n",
       "      <td>595.594641</td>\n",
       "    </tr>\n",
       "    <tr>\n",
       "      <th>2016-01-01</th>\n",
       "      <td>594.120428</td>\n",
       "    </tr>\n",
       "    <tr>\n",
       "      <th>2017-01-01</th>\n",
       "      <td>595.369214</td>\n",
       "    </tr>\n",
       "    <tr>\n",
       "      <th>2018-01-01</th>\n",
       "      <td>587.954320</td>\n",
       "    </tr>\n",
       "  </tbody>\n",
       "</table>\n",
       "</div>"
      ],
      "text/plain": [
       "            Average Enrollment\n",
       "Datetime                      \n",
       "2015-01-01          595.594641\n",
       "2016-01-01          594.120428\n",
       "2017-01-01          595.369214\n",
       "2018-01-01          587.954320"
      ]
     },
     "execution_count": 28,
     "metadata": {},
     "output_type": "execute_result"
    }
   ],
   "source": [
    "dataset_2"
   ]
  },
  {
   "cell_type": "code",
   "execution_count": 29,
   "id": "48581b89",
   "metadata": {},
   "outputs": [
    {
     "data": {
      "text/plain": [
       "[<matplotlib.lines.Line2D at 0x162d31690>]"
      ]
     },
     "execution_count": 29,
     "metadata": {},
     "output_type": "execute_result"
    },
    {
     "data": {
      "image/png": "[encoded data removed]",
      "text/plain": [
       "<Figure size 1500x500 with 1 Axes>"
      ]
     },
     "metadata": {},
     "output_type": "display_data"
    }
   ],
   "source": [
    "# Plot the dataset_2\n",
    "\n",
    "plt.figure(figsize=(15,5), dpi=100)\n",
    "plt.plot(dataset_2)"
   ]
  },
  {
   "cell_type": "markdown",
   "id": "330974a4",
   "metadata": {},
   "source": [
    "# Time-series analysis: decomposition"
   ]
  },
  {
   "cell_type": "code",
   "execution_count": 30,
   "id": "3a1ba565",
   "metadata": {
    "scrolled": true
   },
   "outputs": [
    {
     "data": {
      "text/html": [
       "<div>\n",
       "<style scoped>\n",
       "    .dataframe tbody tr th:only-of-type {\n",
       "        vertical-align: middle;\n",
       "    }\n",
       "\n",
       "    .dataframe tbody tr th {\n",
       "        vertical-align: top;\n",
       "    }\n",
       "\n",
       "    .dataframe thead th {\n",
       "        text-align: right;\n",
       "    }\n",
       "</style>\n",
       "<table border=\"1\" class=\"dataframe\">\n",
       "  <thead>\n",
       "    <tr style=\"text-align: right;\">\n",
       "      <th></th>\n",
       "      <th>Year Count</th>\n",
       "      <th>Average Enrollment</th>\n",
       "    </tr>\n",
       "    <tr>\n",
       "      <th>Datetime</th>\n",
       "      <th></th>\n",
       "      <th></th>\n",
       "    </tr>\n",
       "  </thead>\n",
       "  <tbody>\n",
       "    <tr>\n",
       "      <th>2015-01-01</th>\n",
       "      <td>1754</td>\n",
       "      <td>595.594641</td>\n",
       "    </tr>\n",
       "    <tr>\n",
       "      <th>2016-01-01</th>\n",
       "      <td>1777</td>\n",
       "      <td>594.120428</td>\n",
       "    </tr>\n",
       "    <tr>\n",
       "      <th>2017-01-01</th>\n",
       "      <td>1793</td>\n",
       "      <td>595.369214</td>\n",
       "    </tr>\n",
       "    <tr>\n",
       "      <th>2018-01-01</th>\n",
       "      <td>1817</td>\n",
       "      <td>587.954320</td>\n",
       "    </tr>\n",
       "  </tbody>\n",
       "</table>\n",
       "</div>"
      ],
      "text/plain": [
       "            Year Count  Average Enrollment\n",
       "Datetime                                  \n",
       "2015-01-01        1754          595.594641\n",
       "2016-01-01        1777          594.120428\n",
       "2017-01-01        1793          595.369214\n",
       "2018-01-01        1817          587.954320"
      ]
     },
     "execution_count": 30,
     "metadata": {},
     "output_type": "execute_result"
    }
   ],
   "source": [
    "dataset"
   ]
  },
  {
   "cell_type": "code",
   "execution_count": 31,
   "id": "3e809013",
   "metadata": {},
   "outputs": [],
   "source": [
    "column_to_drop = 'Year Count'\n",
    "dataset = dataset.drop(column_to_drop, axis=1)"
   ]
  },
  {
   "cell_type": "code",
   "execution_count": 32,
   "id": "967a931e",
   "metadata": {},
   "outputs": [
    {
     "data": {
      "text/html": [
       "<div>\n",
       "<style scoped>\n",
       "    .dataframe tbody tr th:only-of-type {\n",
       "        vertical-align: middle;\n",
       "    }\n",
       "\n",
       "    .dataframe tbody tr th {\n",
       "        vertical-align: top;\n",
       "    }\n",
       "\n",
       "    .dataframe thead th {\n",
       "        text-align: right;\n",
       "    }\n",
       "</style>\n",
       "<table border=\"1\" class=\"dataframe\">\n",
       "  <thead>\n",
       "    <tr style=\"text-align: right;\">\n",
       "      <th></th>\n",
       "      <th>Average Enrollment</th>\n",
       "    </tr>\n",
       "    <tr>\n",
       "      <th>Datetime</th>\n",
       "      <th></th>\n",
       "    </tr>\n",
       "  </thead>\n",
       "  <tbody>\n",
       "    <tr>\n",
       "      <th>2015-01-01</th>\n",
       "      <td>595.594641</td>\n",
       "    </tr>\n",
       "    <tr>\n",
       "      <th>2016-01-01</th>\n",
       "      <td>594.120428</td>\n",
       "    </tr>\n",
       "    <tr>\n",
       "      <th>2017-01-01</th>\n",
       "      <td>595.369214</td>\n",
       "    </tr>\n",
       "    <tr>\n",
       "      <th>2018-01-01</th>\n",
       "      <td>587.954320</td>\n",
       "    </tr>\n",
       "  </tbody>\n",
       "</table>\n",
       "</div>"
      ],
      "text/plain": [
       "            Average Enrollment\n",
       "Datetime                      \n",
       "2015-01-01          595.594641\n",
       "2016-01-01          594.120428\n",
       "2017-01-01          595.369214\n",
       "2018-01-01          587.954320"
      ]
     },
     "execution_count": 32,
     "metadata": {},
     "output_type": "execute_result"
    }
   ],
   "source": [
    "dataset"
   ]
  },
  {
   "cell_type": "code",
   "execution_count": 33,
   "id": "ea820c4e",
   "metadata": {},
   "outputs": [],
   "source": [
    "# Reset index so that you can use the \"Datetime\" column as a filter\n",
    "\n",
    "result_1 = dataset.reset_index()"
   ]
  },
  {
   "cell_type": "code",
   "execution_count": 34,
   "id": "31848189",
   "metadata": {},
   "outputs": [
    {
     "data": {
      "text/html": [
       "<div>\n",
       "<style scoped>\n",
       "    .dataframe tbody tr th:only-of-type {\n",
       "        vertical-align: middle;\n",
       "    }\n",
       "\n",
       "    .dataframe tbody tr th {\n",
       "        vertical-align: top;\n",
       "    }\n",
       "\n",
       "    .dataframe thead th {\n",
       "        text-align: right;\n",
       "    }\n",
       "</style>\n",
       "<table border=\"1\" class=\"dataframe\">\n",
       "  <thead>\n",
       "    <tr style=\"text-align: right;\">\n",
       "      <th></th>\n",
       "      <th>Datetime</th>\n",
       "      <th>Average Enrollment</th>\n",
       "    </tr>\n",
       "  </thead>\n",
       "  <tbody>\n",
       "    <tr>\n",
       "      <th>0</th>\n",
       "      <td>2015-01-01</td>\n",
       "      <td>595.594641</td>\n",
       "    </tr>\n",
       "    <tr>\n",
       "      <th>1</th>\n",
       "      <td>2016-01-01</td>\n",
       "      <td>594.120428</td>\n",
       "    </tr>\n",
       "    <tr>\n",
       "      <th>2</th>\n",
       "      <td>2017-01-01</td>\n",
       "      <td>595.369214</td>\n",
       "    </tr>\n",
       "    <tr>\n",
       "      <th>3</th>\n",
       "      <td>2018-01-01</td>\n",
       "      <td>587.954320</td>\n",
       "    </tr>\n",
       "  </tbody>\n",
       "</table>\n",
       "</div>"
      ],
      "text/plain": [
       "    Datetime  Average Enrollment\n",
       "0 2015-01-01          595.594641\n",
       "1 2016-01-01          594.120428\n",
       "2 2017-01-01          595.369214\n",
       "3 2018-01-01          587.954320"
      ]
     },
     "execution_count": 34,
     "metadata": {},
     "output_type": "execute_result"
    }
   ],
   "source": [
    "result_1"
   ]
  },
  {
   "cell_type": "code",
   "execution_count": 35,
   "id": "b2f47241",
   "metadata": {},
   "outputs": [
    {
     "name": "stdout",
     "output_type": "stream",
     "text": [
      "<class 'pandas.core.frame.DataFrame'>\n",
      "RangeIndex: 4 entries, 0 to 3\n",
      "Data columns (total 2 columns):\n",
      " #   Column              Non-Null Count  Dtype         \n",
      "---  ------              --------------  -----         \n",
      " 0   Datetime            4 non-null      datetime64[ns]\n",
      " 1   Average Enrollment  4 non-null      float64       \n",
      "dtypes: datetime64[ns](1), float64(1)\n",
      "memory usage: 196.0 bytes\n"
     ]
    }
   ],
   "source": [
    "result_1.info()"
   ]
  },
  {
   "cell_type": "code",
   "execution_count": 36,
   "id": "bef9520f",
   "metadata": {},
   "outputs": [],
   "source": [
    "time_series = result_1['Average Enrollment']"
   ]
  },
  {
   "cell_type": "code",
   "execution_count": 37,
   "id": "695ed571",
   "metadata": {},
   "outputs": [],
   "source": [
    "result_1['Datetime'] = pd.to_datetime(result_1['Datetime'])"
   ]
  },
  {
   "cell_type": "code",
   "execution_count": 38,
   "id": "f597bfa5",
   "metadata": {},
   "outputs": [],
   "source": [
    "result_1.set_index('Datetime', inplace=True)"
   ]
  },
  {
   "cell_type": "code",
   "execution_count": 39,
   "id": "f9b3bdfd",
   "metadata": {},
   "outputs": [],
   "source": [
    "time_series = result_1['Average Enrollment']"
   ]
  },
  {
   "cell_type": "code",
   "execution_count": 40,
   "id": "894168cf",
   "metadata": {},
   "outputs": [
    {
     "data": {
      "text/html": [
       "<div>\n",
       "<style scoped>\n",
       "    .dataframe tbody tr th:only-of-type {\n",
       "        vertical-align: middle;\n",
       "    }\n",
       "\n",
       "    .dataframe tbody tr th {\n",
       "        vertical-align: top;\n",
       "    }\n",
       "\n",
       "    .dataframe thead th {\n",
       "        text-align: right;\n",
       "    }\n",
       "</style>\n",
       "<table border=\"1\" class=\"dataframe\">\n",
       "  <thead>\n",
       "    <tr style=\"text-align: right;\">\n",
       "      <th></th>\n",
       "      <th>Average Enrollment</th>\n",
       "    </tr>\n",
       "    <tr>\n",
       "      <th>Datetime</th>\n",
       "      <th></th>\n",
       "    </tr>\n",
       "  </thead>\n",
       "  <tbody>\n",
       "    <tr>\n",
       "      <th>2015-01-01</th>\n",
       "      <td>595.594641</td>\n",
       "    </tr>\n",
       "    <tr>\n",
       "      <th>2016-01-01</th>\n",
       "      <td>594.120428</td>\n",
       "    </tr>\n",
       "    <tr>\n",
       "      <th>2017-01-01</th>\n",
       "      <td>595.369214</td>\n",
       "    </tr>\n",
       "    <tr>\n",
       "      <th>2018-01-01</th>\n",
       "      <td>587.954320</td>\n",
       "    </tr>\n",
       "  </tbody>\n",
       "</table>\n",
       "</div>"
      ],
      "text/plain": [
       "            Average Enrollment\n",
       "Datetime                      \n",
       "2015-01-01          595.594641\n",
       "2016-01-01          594.120428\n",
       "2017-01-01          595.369214\n",
       "2018-01-01          587.954320"
      ]
     },
     "execution_count": 40,
     "metadata": {},
     "output_type": "execute_result"
    }
   ],
   "source": [
    "result_1"
   ]
  },
  {
   "cell_type": "code",
   "execution_count": 41,
   "id": "ba4fcc01",
   "metadata": {},
   "outputs": [],
   "source": [
    "# Decompose the time series using an additive model\n",
    "\n",
    "decomposition = sm.tsa.seasonal_decompose(time_series, model='additive')"
   ]
  },
  {
   "cell_type": "code",
   "execution_count": 42,
   "id": "e7964b7b",
   "metadata": {},
   "outputs": [
    {
     "data": {
      "text/plain": [
       "<statsmodels.tsa.seasonal.DecomposeResult at 0x162c65c50>"
      ]
     },
     "execution_count": 42,
     "metadata": {},
     "output_type": "execute_result"
    }
   ],
   "source": [
    "decomposition"
   ]
  },
  {
   "cell_type": "code",
   "execution_count": 43,
   "id": "814a3c57",
   "metadata": {},
   "outputs": [],
   "source": [
    "from pylab import rcParams # This will define a fixed size for all special charts.\n",
    "\n",
    "rcParams['figure.figsize'] = 18, 7"
   ]
  },
  {
   "cell_type": "code",
   "execution_count": 44,
   "id": "f3b2071e",
   "metadata": {},
   "outputs": [],
   "source": [
    "trend = decomposition.trend\n",
    "seasonal = decomposition.seasonal\n",
    "residual = decomposition.resid"
   ]
  },
  {
   "cell_type": "code",
   "execution_count": 45,
   "id": "15e2f9c0",
   "metadata": {
    "scrolled": true
   },
   "outputs": [
    {
     "data": {
      "text/plain": [
       "Datetime\n",
       "2015-01-01    0.0\n",
       "2016-01-01    0.0\n",
       "2017-01-01    0.0\n",
       "2018-01-01    0.0\n",
       "Name: resid, dtype: float64"
      ]
     },
     "execution_count": 45,
     "metadata": {},
     "output_type": "execute_result"
    }
   ],
   "source": [
    "residual"
   ]
  },
  {
   "cell_type": "code",
   "execution_count": 46,
   "id": "dba813f6",
   "metadata": {},
   "outputs": [
    {
     "data": {
      "image/png": "[encoded data removed]",
      "text/plain": [
       "<Figure size 1800x700 with 4 Axes>"
      ]
     },
     "metadata": {},
     "output_type": "display_data"
    }
   ],
   "source": [
    "# Plot the separate components\n",
    "\n",
    "decomposition.plot()\n",
    "plt.show()"
   ]
  },
  {
   "cell_type": "markdown",
   "id": "d735c60f",
   "metadata": {},
   "source": [
    "#### There is a downward linear trend in the Average Enrollment, which appears similar to the level as this data did not require smoothing. We can also see from the decomposition that there seems to be no seasonality present in this data, represented by the straight line. Finally, the residual chart shows the noise of the data, which seems the plots are fairly closely centered around zero, indicating isn't any amount."
   ]
  },
  {
   "cell_type": "markdown",
   "id": "2d011726",
   "metadata": {},
   "source": [
    "# Testing for stationarity"
   ]
  },
  {
   "cell_type": "code",
   "execution_count": 47,
   "id": "1b7c2058",
   "metadata": {},
   "outputs": [
    {
     "name": "stdout",
     "output_type": "stream",
     "text": [
      "Dickey-Fuller Stationarity test:\n",
      "Test Statistic                 -0.831321\n",
      "p-value                         0.809748\n",
      "Number of Lags Used             0.000000\n",
      "Number of Observations Used     3.000000\n",
      "Critical Value (1%)           -10.417191\n",
      "Critical Value (5%)            -5.778381\n",
      "Critical Value (10%)           -3.391681\n",
      "dtype: float64\n"
     ]
    }
   ],
   "source": [
    "# The adfuller() function will import from the model from statsmodels for the test; however, running it will only return \n",
    "# an array of numbers. This is why you need to also define a function that prints the correct output from that array.\n",
    "\n",
    "from statsmodels.tsa.stattools import adfuller # Import the adfuller() function\n",
    "\n",
    "def dickey_fuller(timeseries): # Define the function\n",
    "    # Perform the Dickey-Fuller test:\n",
    "    print ('Dickey-Fuller Stationarity test:')\n",
    "    test = adfuller(timeseries, autolag='AIC')\n",
    "    result = pd.Series(test[0:4], index=['Test Statistic','p-value','Number of Lags Used','Number of Observations Used'])\n",
    "    for key,value in test[4].items():\n",
    "       result['Critical Value (%s)'%key] = value\n",
    "    print (result)\n",
    "\n",
    "# Apply the test using the function on the time series\n",
    "dickey_fuller(result_1['Average Enrollment'])"
   ]
  },
  {
   "cell_type": "markdown",
   "id": "384bfcc2",
   "metadata": {},
   "source": [
    "- The test statistic is -0.831321, which is greater than the critical values at all significance levels.\n",
    "- The p-value is 0.809748, which is significantly higher than the typical significance levels (e.g., 0.01 or 0.05).\n",
    "- Since the test statistic is not less than the critical values and the p-value is high, we fail to reject the null hypothesis.\n",
    "- This indicates that the data is likely non-stationary, suggesting the presence of trends or seasonality.\n",
    "- Further analysis, such as differencing or seasonal decomposition, may be necessary to achieve stationarity."
   ]
  },
  {
   "cell_type": "code",
   "execution_count": 48,
   "id": "e074fe10",
   "metadata": {},
   "outputs": [
    {
     "data": {
      "image/png": "[encoded data removed]",
      "text/plain": [
       "<Figure size 1800x700 with 1 Axes>"
      ]
     },
     "metadata": {},
     "output_type": "display_data"
    }
   ],
   "source": [
    "# Check out a plot of autocorrelations\n",
    "\n",
    "from statsmodels.graphics.tsaplots import plot_acf, plot_pacf # Here, you import the autocorrelation and partial correlation plots\n",
    "\n",
    "plot_acf(result_1)\n",
    "plt.show()"
   ]
  },
  {
   "cell_type": "markdown",
   "id": "7b479dcb",
   "metadata": {},
   "source": [
    "#### There is one lag above the blue confidence interval, so I will choose to stop here. "
   ]
  },
  {
   "cell_type": "code",
   "execution_count": 50,
   "id": "8a55d1ae",
   "metadata": {},
   "outputs": [],
   "source": [
    "# Saving the dataframe to pkl file\n",
    "\n",
    "dataset.to_pickle(os.path.join(path, '02 Data', 'Prepared Data', 'avg_enroll_timeseries.pkl'))"
   ]
  },
  {
   "cell_type": "code",
   "execution_count": null,
   "id": "12b1f07d",
   "metadata": {},
   "outputs": [],
   "source": []
  }
 ],
 "metadata": {
  "kernelspec": {
   "display_name": "Python 3 (ipykernel)",
   "language": "python",
   "name": "python3"
  },
  "language_info": {
   "codemirror_mode": {
    "name": "ipython",
    "version": 3
   },
   "file_extension": ".py",
   "mimetype": "text/x-python",
   "name": "python",
   "nbconvert_exporter": "python",
   "pygments_lexer": "ipython3",
   "version": "3.11.4"
  }
 },
 "nbformat": 4,
 "nbformat_minor": 5
}
